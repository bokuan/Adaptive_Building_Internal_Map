{
 "cells": [
  {
   "cell_type": "code",
   "execution_count": 25,
   "id": "471fe822",
   "metadata": {},
   "outputs": [],
   "source": [
    "import csv\n",
    "import json\n",
    "import pandas as pd"
   ]
  },
  {
   "cell_type": "code",
   "execution_count": 26,
   "id": "692a6374",
   "metadata": {},
   "outputs": [],
   "source": [
    "# input title format: date, bgtime, edtime, event, code, room, teacher"
   ]
  },
  {
   "cell_type": "code",
   "execution_count": 27,
   "id": "264a955e",
   "metadata": {},
   "outputs": [],
   "source": [
    "xlsx_file = 'D:\\Desktop\\l.xlsx'  # read xlsx\n",
    "df = pd.read_excel(xlsx_file)\n",
    "\n",
    "# convert to csv\n",
    "csv_file = 'D:\\Desktop\\l.csv' \n",
    "json_file = 'D:/Desktop/data.json'\n",
    "df.to_csv(csv_file, index=False)"
   ]
  },
  {
   "cell_type": "code",
   "execution_count": 28,
   "id": "3bf40576",
   "metadata": {},
   "outputs": [],
   "source": [
    "# read csv\n",
    "with open(csv_file, 'r', encoding='utf-8') as input_file, open('D:/Desktop/data.csv', 'w', newline='', encoding='utf-8') as output_file:\n",
    "    csv_reader = csv.reader(input_file)\n",
    "    csv_writer = csv.writer(output_file)\n",
    "\n",
    "\n",
    "    for row in csv_reader:\n",
    "        classroom_data = row[5]  # get classroom row\n",
    "\n",
    "        # split data -\n",
    "        cleaned_data = re.sub(r'[^\\w,-]', '', classroom_data)\n",
    "\n",
    "        # find multi calssroom data\n",
    "        classrooms = cleaned_data.split(',')\n",
    "\n",
    "        for classroom in classrooms:\n",
    "            if '-' in classroom:\n",
    "                try:\n",
    "                    start, end = classroom.split('-')\n",
    "                    start = start.strip()\n",
    "                    end = end.strip()\n",
    "\n",
    "                    prefix = re.search(r'[A-Za-z]+', start).group()\n",
    "                    start_num = int(re.search(r'\\d+', start).group())\n",
    "                    end_num = int(re.search(r'\\d+', end).group())\n",
    "\n",
    "                    for num in range(start_num, end_num + 1):\n",
    "                        new_row = row[:]\n",
    "                        new_row[5] = f\"{prefix}{num}\"  \n",
    "                        csv_writer.writerow(new_row)\n",
    "                except ValueError:\n",
    "                    print(f\"Error：{classroom}\")\n",
    "            else:\n",
    "                new_row = row[:]\n",
    "                new_row[5] = classroom.strip()  \n",
    "                csv_writer.writerow(new_row)"
   ]
  }
 ],
 "metadata": {
  "kernelspec": {
   "display_name": "Python 3 (ipykernel)",
   "language": "python",
   "name": "python3"
  },
  "language_info": {
   "codemirror_mode": {
    "name": "ipython",
    "version": 3
   },
   "file_extension": ".py",
   "mimetype": "text/x-python",
   "name": "python",
   "nbconvert_exporter": "python",
   "pygments_lexer": "ipython3",
   "version": "3.9.12"
  }
 },
 "nbformat": 4,
 "nbformat_minor": 5
}
